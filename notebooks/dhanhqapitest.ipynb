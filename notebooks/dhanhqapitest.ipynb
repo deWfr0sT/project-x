{
 "cells": [
  {
   "cell_type": "code",
   "execution_count": null,
   "id": "4da908a3",
   "metadata": {},
   "outputs": [],
   "source": [
    "# ALL REQUIREMENTS ARE IN requirements.txt"
   ]
  },
  {
   "cell_type": "code",
   "execution_count": null,
   "id": "96824d16",
   "metadata": {},
   "outputs": [],
   "source": [
    "#import necessary libraries\n",
    "\n",
    "import sys ,json , os\n",
    "from datetime import datetime , timedelta, date\n",
    "import yfinance as yf\n",
    "\n",
    "try:\n",
    "    import pandas as pd\n",
    "    import requests\n",
    "    import yaml\n",
    "    from nsepy import get_history\n",
    "    from nsetools import Nse\n",
    "    \n",
    "except Exception as e:\n",
    "    print(\"Import error:\", e)\n",
    "    # If any import fails, fix by running pip install for that package\n",
    "    \n",
    "    \n",
    "   \n",
    "    "
   ]
  },
  {
   "cell_type": "code",
   "execution_count": 21,
   "id": "09085bf6",
   "metadata": {},
   "outputs": [
    {
     "name": "stderr",
     "output_type": "stream",
     "text": [
      "C:\\Users\\hp\\AppData\\Local\\Temp\\ipykernel_4668\\2342486550.py:4: FutureWarning: YF.download() has changed argument auto_adjust default to True\n",
      "  nse_df = yf.download(\"SBIN.NS\", start, end)\n",
      "[*********************100%***********************]  1 of 1 completed"
     ]
    },
    {
     "name": "stdout",
     "output_type": "stream",
     "text": [
      "NSE data (SBIN):\n",
      "Price            Close        High         Low        Open    Volume\n",
      "Ticker         SBIN.NS     SBIN.NS     SBIN.NS     SBIN.NS   SBIN.NS\n",
      "Date                                                                \n",
      "2024-09-02  805.966553  809.152579  797.045644  801.211986  11813750\n",
      "2024-09-03  808.564392  809.691779  800.329776  805.966591  10548350\n",
      "2024-09-04  800.427734  802.535437  797.633859  799.398415  10789570\n",
      "2024-09-05  802.633484  805.966581  798.369135  802.241334   8395074\n",
      "2024-09-06  767.097046  796.898668  761.705309  795.526202  40220096 \n",
      "\n",
      "Columns: [('Close', 'SBIN.NS'), ('High', 'SBIN.NS'), ('Low', 'SBIN.NS'), ('Open', 'SBIN.NS'), ('Volume', 'SBIN.NS')]\n"
     ]
    },
    {
     "name": "stderr",
     "output_type": "stream",
     "text": [
      "\n"
     ]
    }
   ],
   "source": [
    "start = date(2024, 9, 1)\n",
    "end   = date(2024, 9, 10)    # short window for test; adjust as needed\n",
    "\n",
    "nse_df = yf.download(\"SBIN.NS\", start, end)\n",
    "print(\"NSE data (SBIN):\")\n",
    "print(nse_df.head(), \"\\n\")\n",
    "\n",
    "# Inspect columns so you understand the structure\n",
    "print(\"Columns:\", nse_df.columns.tolist()) "
   ]
  },
  {
   "cell_type": "code",
   "execution_count": null,
   "id": "2270f023",
   "metadata": {},
   "outputs": [],
   "source": []
  }
 ],
 "metadata": {
  "kernelspec": {
   "display_name": "Python 3",
   "language": "python",
   "name": "python3"
  },
  "language_info": {
   "codemirror_mode": {
    "name": "ipython",
    "version": 3
   },
   "file_extension": ".py",
   "mimetype": "text/x-python",
   "name": "python",
   "nbconvert_exporter": "python",
   "pygments_lexer": "ipython3",
   "version": "3.13.3"
  }
 },
 "nbformat": 4,
 "nbformat_minor": 5
}
